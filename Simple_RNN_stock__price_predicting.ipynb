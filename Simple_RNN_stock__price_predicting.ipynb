{
  "nbformat": 4,
  "nbformat_minor": 0,
  "metadata": {
    "colab": {
      "name": "Simple_RNN_stock _price_predicting.ipynb",
      "provenance": []
    },
    "kernelspec": {
      "name": "python3",
      "display_name": "Python 3"
    },
    "language_info": {
      "name": "python"
    },
    "accelerator": "GPU",
    "gpuClass": "standard"
  },
  "cells": [
    {
      "cell_type": "code",
      "execution_count": 1,
      "metadata": {
        "id": "nftgMPvUH6OX"
      },
      "outputs": [],
      "source": [
        "!unzip -q /content/archive.zip"
      ]
    },
    {
      "cell_type": "code",
      "source": [
        "import pandas as pd \n",
        "import numpy as np\n",
        "import matplotlib.pyplot as plt\n",
        "import warnings\n",
        "import tensorflow as tf"
      ],
      "metadata": {
        "id": "MAD5URV8Iyfg"
      },
      "execution_count": 2,
      "outputs": []
    },
    {
      "cell_type": "code",
      "source": [
        "data_train = pd.read_csv('/content/Stock_Price_Train.csv')\n",
        "data_test = pd.read_csv('/content/Stock_Price_Test.csv')"
      ],
      "metadata": {
        "id": "ICSU14lII0Gq"
      },
      "execution_count": 3,
      "outputs": []
    },
    {
      "cell_type": "code",
      "source": [
        "data_train.head()"
      ],
      "metadata": {
        "colab": {
          "base_uri": "https://localhost:8080/",
          "height": 206
        },
        "id": "ymnayOPeJJDW",
        "outputId": "f9667b55-90a9-463b-cbad-cb7cd8ca609d"
      },
      "execution_count": 4,
      "outputs": [
        {
          "output_type": "execute_result",
          "data": {
            "text/plain": [
              "       Date    Open    High     Low   Close      Volume\n",
              "0  1/3/2012  325.25  332.83  324.97  663.59   7,380,500\n",
              "1  1/4/2012  331.27  333.87  329.08  666.45   5,749,400\n",
              "2  1/5/2012  329.83  330.75  326.89  657.21   6,590,300\n",
              "3  1/6/2012  328.34  328.77  323.68  648.24   5,405,900\n",
              "4  1/9/2012  322.04  322.29  309.46  620.76  11,688,800"
            ],
            "text/html": [
              "\n",
              "  <div id=\"df-4c191ce9-fe42-400f-86a2-0901aedcea4f\">\n",
              "    <div class=\"colab-df-container\">\n",
              "      <div>\n",
              "<style scoped>\n",
              "    .dataframe tbody tr th:only-of-type {\n",
              "        vertical-align: middle;\n",
              "    }\n",
              "\n",
              "    .dataframe tbody tr th {\n",
              "        vertical-align: top;\n",
              "    }\n",
              "\n",
              "    .dataframe thead th {\n",
              "        text-align: right;\n",
              "    }\n",
              "</style>\n",
              "<table border=\"1\" class=\"dataframe\">\n",
              "  <thead>\n",
              "    <tr style=\"text-align: right;\">\n",
              "      <th></th>\n",
              "      <th>Date</th>\n",
              "      <th>Open</th>\n",
              "      <th>High</th>\n",
              "      <th>Low</th>\n",
              "      <th>Close</th>\n",
              "      <th>Volume</th>\n",
              "    </tr>\n",
              "  </thead>\n",
              "  <tbody>\n",
              "    <tr>\n",
              "      <th>0</th>\n",
              "      <td>1/3/2012</td>\n",
              "      <td>325.25</td>\n",
              "      <td>332.83</td>\n",
              "      <td>324.97</td>\n",
              "      <td>663.59</td>\n",
              "      <td>7,380,500</td>\n",
              "    </tr>\n",
              "    <tr>\n",
              "      <th>1</th>\n",
              "      <td>1/4/2012</td>\n",
              "      <td>331.27</td>\n",
              "      <td>333.87</td>\n",
              "      <td>329.08</td>\n",
              "      <td>666.45</td>\n",
              "      <td>5,749,400</td>\n",
              "    </tr>\n",
              "    <tr>\n",
              "      <th>2</th>\n",
              "      <td>1/5/2012</td>\n",
              "      <td>329.83</td>\n",
              "      <td>330.75</td>\n",
              "      <td>326.89</td>\n",
              "      <td>657.21</td>\n",
              "      <td>6,590,300</td>\n",
              "    </tr>\n",
              "    <tr>\n",
              "      <th>3</th>\n",
              "      <td>1/6/2012</td>\n",
              "      <td>328.34</td>\n",
              "      <td>328.77</td>\n",
              "      <td>323.68</td>\n",
              "      <td>648.24</td>\n",
              "      <td>5,405,900</td>\n",
              "    </tr>\n",
              "    <tr>\n",
              "      <th>4</th>\n",
              "      <td>1/9/2012</td>\n",
              "      <td>322.04</td>\n",
              "      <td>322.29</td>\n",
              "      <td>309.46</td>\n",
              "      <td>620.76</td>\n",
              "      <td>11,688,800</td>\n",
              "    </tr>\n",
              "  </tbody>\n",
              "</table>\n",
              "</div>\n",
              "      <button class=\"colab-df-convert\" onclick=\"convertToInteractive('df-4c191ce9-fe42-400f-86a2-0901aedcea4f')\"\n",
              "              title=\"Convert this dataframe to an interactive table.\"\n",
              "              style=\"display:none;\">\n",
              "        \n",
              "  <svg xmlns=\"http://www.w3.org/2000/svg\" height=\"24px\"viewBox=\"0 0 24 24\"\n",
              "       width=\"24px\">\n",
              "    <path d=\"M0 0h24v24H0V0z\" fill=\"none\"/>\n",
              "    <path d=\"M18.56 5.44l.94 2.06.94-2.06 2.06-.94-2.06-.94-.94-2.06-.94 2.06-2.06.94zm-11 1L8.5 8.5l.94-2.06 2.06-.94-2.06-.94L8.5 2.5l-.94 2.06-2.06.94zm10 10l.94 2.06.94-2.06 2.06-.94-2.06-.94-.94-2.06-.94 2.06-2.06.94z\"/><path d=\"M17.41 7.96l-1.37-1.37c-.4-.4-.92-.59-1.43-.59-.52 0-1.04.2-1.43.59L10.3 9.45l-7.72 7.72c-.78.78-.78 2.05 0 2.83L4 21.41c.39.39.9.59 1.41.59.51 0 1.02-.2 1.41-.59l7.78-7.78 2.81-2.81c.8-.78.8-2.07 0-2.86zM5.41 20L4 18.59l7.72-7.72 1.47 1.35L5.41 20z\"/>\n",
              "  </svg>\n",
              "      </button>\n",
              "      \n",
              "  <style>\n",
              "    .colab-df-container {\n",
              "      display:flex;\n",
              "      flex-wrap:wrap;\n",
              "      gap: 12px;\n",
              "    }\n",
              "\n",
              "    .colab-df-convert {\n",
              "      background-color: #E8F0FE;\n",
              "      border: none;\n",
              "      border-radius: 50%;\n",
              "      cursor: pointer;\n",
              "      display: none;\n",
              "      fill: #1967D2;\n",
              "      height: 32px;\n",
              "      padding: 0 0 0 0;\n",
              "      width: 32px;\n",
              "    }\n",
              "\n",
              "    .colab-df-convert:hover {\n",
              "      background-color: #E2EBFA;\n",
              "      box-shadow: 0px 1px 2px rgba(60, 64, 67, 0.3), 0px 1px 3px 1px rgba(60, 64, 67, 0.15);\n",
              "      fill: #174EA6;\n",
              "    }\n",
              "\n",
              "    [theme=dark] .colab-df-convert {\n",
              "      background-color: #3B4455;\n",
              "      fill: #D2E3FC;\n",
              "    }\n",
              "\n",
              "    [theme=dark] .colab-df-convert:hover {\n",
              "      background-color: #434B5C;\n",
              "      box-shadow: 0px 1px 3px 1px rgba(0, 0, 0, 0.15);\n",
              "      filter: drop-shadow(0px 1px 2px rgba(0, 0, 0, 0.3));\n",
              "      fill: #FFFFFF;\n",
              "    }\n",
              "  </style>\n",
              "\n",
              "      <script>\n",
              "        const buttonEl =\n",
              "          document.querySelector('#df-4c191ce9-fe42-400f-86a2-0901aedcea4f button.colab-df-convert');\n",
              "        buttonEl.style.display =\n",
              "          google.colab.kernel.accessAllowed ? 'block' : 'none';\n",
              "\n",
              "        async function convertToInteractive(key) {\n",
              "          const element = document.querySelector('#df-4c191ce9-fe42-400f-86a2-0901aedcea4f');\n",
              "          const dataTable =\n",
              "            await google.colab.kernel.invokeFunction('convertToInteractive',\n",
              "                                                     [key], {});\n",
              "          if (!dataTable) return;\n",
              "\n",
              "          const docLinkHtml = 'Like what you see? Visit the ' +\n",
              "            '<a target=\"_blank\" href=https://colab.research.google.com/notebooks/data_table.ipynb>data table notebook</a>'\n",
              "            + ' to learn more about interactive tables.';\n",
              "          element.innerHTML = '';\n",
              "          dataTable['output_type'] = 'display_data';\n",
              "          await google.colab.output.renderOutput(dataTable, element);\n",
              "          const docLink = document.createElement('div');\n",
              "          docLink.innerHTML = docLinkHtml;\n",
              "          element.appendChild(docLink);\n",
              "        }\n",
              "      </script>\n",
              "    </div>\n",
              "  </div>\n",
              "  "
            ]
          },
          "metadata": {},
          "execution_count": 4
        }
      ]
    },
    {
      "cell_type": "code",
      "source": [
        "print(data_train.shape,data_test.shape)"
      ],
      "metadata": {
        "colab": {
          "base_uri": "https://localhost:8080/"
        },
        "id": "0FZBITmKJWCx",
        "outputId": "a4b86568-df94-4275-a10e-5f844bca8010"
      },
      "execution_count": 7,
      "outputs": [
        {
          "output_type": "stream",
          "name": "stdout",
          "text": [
            "(1258, 6) (20, 6)\n"
          ]
        }
      ]
    },
    {
      "cell_type": "code",
      "source": [
        "data_train.isnull().sum()"
      ],
      "metadata": {
        "colab": {
          "base_uri": "https://localhost:8080/"
        },
        "id": "LzJA8EnqJmEM",
        "outputId": "710b64bd-2913-4ce0-9dce-32189a442265"
      },
      "execution_count": 5,
      "outputs": [
        {
          "output_type": "execute_result",
          "data": {
            "text/plain": [
              "Date      0\n",
              "Open      0\n",
              "High      0\n",
              "Low       0\n",
              "Close     0\n",
              "Volume    0\n",
              "dtype: int64"
            ]
          },
          "metadata": {},
          "execution_count": 5
        }
      ]
    },
    {
      "cell_type": "code",
      "source": [
        "data_train.dtypes"
      ],
      "metadata": {
        "colab": {
          "base_uri": "https://localhost:8080/"
        },
        "id": "GOPjTHRtJ3Iz",
        "outputId": "075df145-8d18-4f8c-b0bc-725a238d132f"
      },
      "execution_count": 6,
      "outputs": [
        {
          "output_type": "execute_result",
          "data": {
            "text/plain": [
              "Date       object\n",
              "Open      float64\n",
              "High      float64\n",
              "Low       float64\n",
              "Close      object\n",
              "Volume     object\n",
              "dtype: object"
            ]
          },
          "metadata": {},
          "execution_count": 6
        }
      ]
    },
    {
      "cell_type": "code",
      "source": [
        "data_train.describe()"
      ],
      "metadata": {
        "colab": {
          "base_uri": "https://localhost:8080/",
          "height": 300
        },
        "id": "jJdxuCpWJ6VL",
        "outputId": "4aff02d9-0408-49d3-8cd4-646ecf27d7e0"
      },
      "execution_count": 10,
      "outputs": [
        {
          "output_type": "execute_result",
          "data": {
            "text/plain": [
              "              Open         High          Low\n",
              "count  1258.000000  1258.000000  1258.000000\n",
              "mean    533.709833   537.880223   529.007409\n",
              "std     151.904442   153.008811   150.552807\n",
              "min     279.120000   281.210000   277.220000\n",
              "25%     404.115000   406.765000   401.765000\n",
              "50%     537.470000   540.750000   532.990000\n",
              "75%     654.922500   662.587500   644.800000\n",
              "max     816.680000   816.680000   805.140000"
            ],
            "text/html": [
              "\n",
              "  <div id=\"df-8b983c57-102d-451d-bee1-4c0c5f1e9a17\">\n",
              "    <div class=\"colab-df-container\">\n",
              "      <div>\n",
              "<style scoped>\n",
              "    .dataframe tbody tr th:only-of-type {\n",
              "        vertical-align: middle;\n",
              "    }\n",
              "\n",
              "    .dataframe tbody tr th {\n",
              "        vertical-align: top;\n",
              "    }\n",
              "\n",
              "    .dataframe thead th {\n",
              "        text-align: right;\n",
              "    }\n",
              "</style>\n",
              "<table border=\"1\" class=\"dataframe\">\n",
              "  <thead>\n",
              "    <tr style=\"text-align: right;\">\n",
              "      <th></th>\n",
              "      <th>Open</th>\n",
              "      <th>High</th>\n",
              "      <th>Low</th>\n",
              "    </tr>\n",
              "  </thead>\n",
              "  <tbody>\n",
              "    <tr>\n",
              "      <th>count</th>\n",
              "      <td>1258.000000</td>\n",
              "      <td>1258.000000</td>\n",
              "      <td>1258.000000</td>\n",
              "    </tr>\n",
              "    <tr>\n",
              "      <th>mean</th>\n",
              "      <td>533.709833</td>\n",
              "      <td>537.880223</td>\n",
              "      <td>529.007409</td>\n",
              "    </tr>\n",
              "    <tr>\n",
              "      <th>std</th>\n",
              "      <td>151.904442</td>\n",
              "      <td>153.008811</td>\n",
              "      <td>150.552807</td>\n",
              "    </tr>\n",
              "    <tr>\n",
              "      <th>min</th>\n",
              "      <td>279.120000</td>\n",
              "      <td>281.210000</td>\n",
              "      <td>277.220000</td>\n",
              "    </tr>\n",
              "    <tr>\n",
              "      <th>25%</th>\n",
              "      <td>404.115000</td>\n",
              "      <td>406.765000</td>\n",
              "      <td>401.765000</td>\n",
              "    </tr>\n",
              "    <tr>\n",
              "      <th>50%</th>\n",
              "      <td>537.470000</td>\n",
              "      <td>540.750000</td>\n",
              "      <td>532.990000</td>\n",
              "    </tr>\n",
              "    <tr>\n",
              "      <th>75%</th>\n",
              "      <td>654.922500</td>\n",
              "      <td>662.587500</td>\n",
              "      <td>644.800000</td>\n",
              "    </tr>\n",
              "    <tr>\n",
              "      <th>max</th>\n",
              "      <td>816.680000</td>\n",
              "      <td>816.680000</td>\n",
              "      <td>805.140000</td>\n",
              "    </tr>\n",
              "  </tbody>\n",
              "</table>\n",
              "</div>\n",
              "      <button class=\"colab-df-convert\" onclick=\"convertToInteractive('df-8b983c57-102d-451d-bee1-4c0c5f1e9a17')\"\n",
              "              title=\"Convert this dataframe to an interactive table.\"\n",
              "              style=\"display:none;\">\n",
              "        \n",
              "  <svg xmlns=\"http://www.w3.org/2000/svg\" height=\"24px\"viewBox=\"0 0 24 24\"\n",
              "       width=\"24px\">\n",
              "    <path d=\"M0 0h24v24H0V0z\" fill=\"none\"/>\n",
              "    <path d=\"M18.56 5.44l.94 2.06.94-2.06 2.06-.94-2.06-.94-.94-2.06-.94 2.06-2.06.94zm-11 1L8.5 8.5l.94-2.06 2.06-.94-2.06-.94L8.5 2.5l-.94 2.06-2.06.94zm10 10l.94 2.06.94-2.06 2.06-.94-2.06-.94-.94-2.06-.94 2.06-2.06.94z\"/><path d=\"M17.41 7.96l-1.37-1.37c-.4-.4-.92-.59-1.43-.59-.52 0-1.04.2-1.43.59L10.3 9.45l-7.72 7.72c-.78.78-.78 2.05 0 2.83L4 21.41c.39.39.9.59 1.41.59.51 0 1.02-.2 1.41-.59l7.78-7.78 2.81-2.81c.8-.78.8-2.07 0-2.86zM5.41 20L4 18.59l7.72-7.72 1.47 1.35L5.41 20z\"/>\n",
              "  </svg>\n",
              "      </button>\n",
              "      \n",
              "  <style>\n",
              "    .colab-df-container {\n",
              "      display:flex;\n",
              "      flex-wrap:wrap;\n",
              "      gap: 12px;\n",
              "    }\n",
              "\n",
              "    .colab-df-convert {\n",
              "      background-color: #E8F0FE;\n",
              "      border: none;\n",
              "      border-radius: 50%;\n",
              "      cursor: pointer;\n",
              "      display: none;\n",
              "      fill: #1967D2;\n",
              "      height: 32px;\n",
              "      padding: 0 0 0 0;\n",
              "      width: 32px;\n",
              "    }\n",
              "\n",
              "    .colab-df-convert:hover {\n",
              "      background-color: #E2EBFA;\n",
              "      box-shadow: 0px 1px 2px rgba(60, 64, 67, 0.3), 0px 1px 3px 1px rgba(60, 64, 67, 0.15);\n",
              "      fill: #174EA6;\n",
              "    }\n",
              "\n",
              "    [theme=dark] .colab-df-convert {\n",
              "      background-color: #3B4455;\n",
              "      fill: #D2E3FC;\n",
              "    }\n",
              "\n",
              "    [theme=dark] .colab-df-convert:hover {\n",
              "      background-color: #434B5C;\n",
              "      box-shadow: 0px 1px 3px 1px rgba(0, 0, 0, 0.15);\n",
              "      filter: drop-shadow(0px 1px 2px rgba(0, 0, 0, 0.3));\n",
              "      fill: #FFFFFF;\n",
              "    }\n",
              "  </style>\n",
              "\n",
              "      <script>\n",
              "        const buttonEl =\n",
              "          document.querySelector('#df-8b983c57-102d-451d-bee1-4c0c5f1e9a17 button.colab-df-convert');\n",
              "        buttonEl.style.display =\n",
              "          google.colab.kernel.accessAllowed ? 'block' : 'none';\n",
              "\n",
              "        async function convertToInteractive(key) {\n",
              "          const element = document.querySelector('#df-8b983c57-102d-451d-bee1-4c0c5f1e9a17');\n",
              "          const dataTable =\n",
              "            await google.colab.kernel.invokeFunction('convertToInteractive',\n",
              "                                                     [key], {});\n",
              "          if (!dataTable) return;\n",
              "\n",
              "          const docLinkHtml = 'Like what you see? Visit the ' +\n",
              "            '<a target=\"_blank\" href=https://colab.research.google.com/notebooks/data_table.ipynb>data table notebook</a>'\n",
              "            + ' to learn more about interactive tables.';\n",
              "          element.innerHTML = '';\n",
              "          dataTable['output_type'] = 'display_data';\n",
              "          await google.colab.output.renderOutput(dataTable, element);\n",
              "          const docLink = document.createElement('div');\n",
              "          docLink.innerHTML = docLinkHtml;\n",
              "          element.appendChild(docLink);\n",
              "        }\n",
              "      </script>\n",
              "    </div>\n",
              "  </div>\n",
              "  "
            ]
          },
          "metadata": {},
          "execution_count": 10
        }
      ]
    },
    {
      "cell_type": "code",
      "source": [
        "data = data_train.iloc[:,1:2].values\n"
      ],
      "metadata": {
        "id": "rFAK63pWKT3o"
      },
      "execution_count": 27,
      "outputs": []
    },
    {
      "cell_type": "code",
      "source": [
        "from sklearn.preprocessing import MinMaxScaler\n",
        "sc = MinMaxScaler(feature_range =(0,1))\n",
        "data_scaled = sc.fit_transform(data)"
      ],
      "metadata": {
        "id": "EwyfzmkFKVry"
      },
      "execution_count": 28,
      "outputs": []
    },
    {
      "cell_type": "code",
      "source": [
        "x_train = []\n",
        "y_train =[]\n",
        "\n",
        "for i in range(60,1258):\n",
        "    x_train.append(data_scaled[i-60:i,0])\n",
        "    y_train.append(data_scaled[i,0])\n",
        "x_train, y_train = np.array(x_train), np.array(y_train)   \n",
        "#reshaping \n",
        "x_train = np.reshape(x_train,(x_train.shape[0], x_train.shape[1],1))"
      ],
      "metadata": {
        "id": "e9U5nikFKdvk"
      },
      "execution_count": 29,
      "outputs": []
    },
    {
      "cell_type": "code",
      "source": [
        "from keras.models import Sequential\n",
        "from keras.layers import Dense,SimpleRNN,Dropout\n"
      ],
      "metadata": {
        "id": "eVnuX6PUKiud"
      },
      "execution_count": 30,
      "outputs": []
    },
    {
      "cell_type": "code",
      "source": [
        "regressor = Sequential()"
      ],
      "metadata": {
        "id": "4xpHfOYoKmux"
      },
      "execution_count": 31,
      "outputs": []
    },
    {
      "cell_type": "code",
      "source": [
        "regressor.add(SimpleRNN(units =50,return_sequences = True,input_shape = (x_train.shape[1],1)))\n",
        "regressor.add(Dropout(0.2))\n",
        "\n",
        "#adding 2nd layer\n",
        "regressor.add(SimpleRNN(units = 50, return_sequences = True))\n",
        "regressor.add(Dropout(0.2))\n",
        "\n",
        "#adding 3rd layer \n",
        "regressor.add(SimpleRNN(units =50,return_sequences = True))\n",
        "regressor.add(Dropout(0.3))\n",
        "\n",
        "#adding fourth layer\n",
        "regressor.add(SimpleRNN(units =50))\n",
        "regressor.add(Dropout(0.3))"
      ],
      "metadata": {
        "id": "YSPXzGqSKpQ_"
      },
      "execution_count": 32,
      "outputs": []
    },
    {
      "cell_type": "code",
      "source": [
        "regressor.add(Dense(units =1))"
      ],
      "metadata": {
        "id": "0tglLWZ0Kykq"
      },
      "execution_count": 33,
      "outputs": []
    },
    {
      "cell_type": "code",
      "source": [
        "regressor.compile(optimizer = 'adam' ,loss = 'mean_squared_error')"
      ],
      "metadata": {
        "id": "tAR6R4rnK2Ax"
      },
      "execution_count": 34,
      "outputs": []
    },
    {
      "cell_type": "code",
      "source": [
        "from tensorflow.keras.utils import to_categorical, plot_model\n",
        "plot_model(regressor, to_file='NN-mnist.png', show_shapes=True)"
      ],
      "metadata": {
        "colab": {
          "base_uri": "https://localhost:8080/",
          "height": 1000
        },
        "id": "5NSEkpPh8Hca",
        "outputId": "c952a019-7b10-4df6-d1a6-0e0955f8fcf9"
      },
      "execution_count": 15,
      "outputs": [
        {
          "output_type": "execute_result",
          "data": {
            "image/png": "[encoded data removed]",
            "text/plain": [
              "<IPython.core.display.Image object>"
            ]
          },
          "metadata": {},
          "execution_count": 15
        }
      ]
    },
    {
      "cell_type": "code",
      "source": [
        "def create_model_check_point_callback(checkpoint_path,monitor='val_loss'):\n",
        "    \"\"\"\n",
        "    Takes the path where to save the best model weights obtained during training.\n",
        "    \"\"\"\n",
        "    model_checkpoint_cb=tf.keras.callbacks.ModelCheckpoint(\n",
        "        \n",
        "        monitor=monitor,\n",
        "        filepath=checkpoint_path,\n",
        "        save_best_only=True,\n",
        "        save_weights_only=True,\n",
        "        save_freq='epoch',\n",
        "        verbose=1\n",
        "    )\n",
        "    return model_checkpoint_cb\n",
        "ModelCheckPoint_model_cb=create_model_check_point_callback('ModelCheckPoints/model.ckpt')    "
      ],
      "metadata": {
        "id": "LVtWPnE_8nIj"
      },
      "execution_count": 16,
      "outputs": []
    },
    {
      "cell_type": "code",
      "source": [
        "regressor.fit(x_train,\n",
        "              y_train,epochs = 80,\n",
        "              batch_size =32,\n",
        "              )"
      ],
      "metadata": {
        "colab": {
          "base_uri": "https://localhost:8080/"
        },
        "id": "DtJZquRHK6Nr",
        "outputId": "8bfbb141-82cc-439e-8109-6f9a74f1281d"
      },
      "execution_count": 35,
      "outputs": [
        {
          "output_type": "stream",
          "name": "stdout",
          "text": [
            "Epoch 1/80\n",
            "38/38 [==============================] - 9s 176ms/step - loss: 0.6039\n",
            "Epoch 2/80\n",
            "38/38 [==============================] - 7s 178ms/step - loss: 0.3504\n",
            "Epoch 3/80\n",
            "38/38 [==============================] - 7s 178ms/step - loss: 0.2705\n",
            "Epoch 4/80\n",
            "38/38 [==============================] - 8s 201ms/step - loss: 0.2060\n",
            "Epoch 5/80\n",
            "38/38 [==============================] - 7s 174ms/step - loss: 0.1463\n",
            "Epoch 6/80\n",
            "38/38 [==============================] - 7s 176ms/step - loss: 0.1300\n",
            "Epoch 7/80\n",
            "38/38 [==============================] - 8s 203ms/step - loss: 0.1095\n",
            "Epoch 8/80\n",
            "38/38 [==============================] - 7s 178ms/step - loss: 0.0889\n",
            "Epoch 9/80\n",
            "38/38 [==============================] - 7s 173ms/step - loss: 0.0753\n",
            "Epoch 10/80\n",
            "38/38 [==============================] - 7s 174ms/step - loss: 0.0654\n",
            "Epoch 11/80\n",
            "38/38 [==============================] - 7s 176ms/step - loss: 0.0575\n",
            "Epoch 12/80\n",
            "38/38 [==============================] - 7s 178ms/step - loss: 0.0508\n",
            "Epoch 13/80\n",
            "38/38 [==============================] - 7s 180ms/step - loss: 0.0448\n",
            "Epoch 14/80\n",
            "38/38 [==============================] - 7s 175ms/step - loss: 0.0382\n",
            "Epoch 15/80\n",
            "38/38 [==============================] - 7s 182ms/step - loss: 0.0339\n",
            "Epoch 16/80\n",
            "38/38 [==============================] - 7s 181ms/step - loss: 0.0333\n",
            "Epoch 17/80\n",
            "38/38 [==============================] - 7s 176ms/step - loss: 0.0268\n",
            "Epoch 18/80\n",
            "38/38 [==============================] - 7s 179ms/step - loss: 0.0282\n",
            "Epoch 19/80\n",
            "38/38 [==============================] - 7s 173ms/step - loss: 0.0247\n",
            "Epoch 20/80\n",
            "38/38 [==============================] - 7s 180ms/step - loss: 0.0212\n",
            "Epoch 21/80\n",
            "38/38 [==============================] - 8s 205ms/step - loss: 0.0189\n",
            "Epoch 22/80\n",
            "38/38 [==============================] - 7s 176ms/step - loss: 0.0166\n",
            "Epoch 23/80\n",
            "38/38 [==============================] - 7s 172ms/step - loss: 0.0163\n",
            "Epoch 24/80\n",
            "38/38 [==============================] - 7s 174ms/step - loss: 0.0158\n",
            "Epoch 25/80\n",
            "38/38 [==============================] - 7s 175ms/step - loss: 0.0135\n",
            "Epoch 26/80\n",
            "38/38 [==============================] - 7s 173ms/step - loss: 0.0135\n",
            "Epoch 27/80\n",
            "38/38 [==============================] - 7s 178ms/step - loss: 0.0126\n",
            "Epoch 28/80\n",
            "38/38 [==============================] - 7s 179ms/step - loss: 0.0116\n",
            "Epoch 29/80\n",
            "38/38 [==============================] - 7s 176ms/step - loss: 0.0112\n",
            "Epoch 30/80\n",
            "38/38 [==============================] - 7s 176ms/step - loss: 0.0108\n",
            "Epoch 31/80\n",
            "38/38 [==============================] - 7s 177ms/step - loss: 0.0108\n",
            "Epoch 32/80\n",
            "38/38 [==============================] - 7s 178ms/step - loss: 0.0101\n",
            "Epoch 33/80\n",
            "38/38 [==============================] - 7s 178ms/step - loss: 0.0096\n",
            "Epoch 34/80\n",
            "38/38 [==============================] - 7s 178ms/step - loss: 0.0088\n",
            "Epoch 35/80\n",
            "38/38 [==============================] - 7s 173ms/step - loss: 0.0089\n",
            "Epoch 36/80\n",
            "38/38 [==============================] - 7s 173ms/step - loss: 0.0089\n",
            "Epoch 37/80\n",
            "38/38 [==============================] - 8s 206ms/step - loss: 0.0078\n",
            "Epoch 38/80\n",
            "38/38 [==============================] - 7s 179ms/step - loss: 0.0074\n",
            "Epoch 39/80\n",
            "38/38 [==============================] - 7s 183ms/step - loss: 0.0076\n",
            "Epoch 40/80\n",
            "38/38 [==============================] - 7s 178ms/step - loss: 0.0067\n",
            "Epoch 41/80\n",
            "38/38 [==============================] - 7s 174ms/step - loss: 0.0066\n",
            "Epoch 42/80\n",
            "38/38 [==============================] - 7s 174ms/step - loss: 0.0062\n",
            "Epoch 43/80\n",
            "38/38 [==============================] - 7s 178ms/step - loss: 0.0066\n",
            "Epoch 44/80\n",
            "38/38 [==============================] - 7s 173ms/step - loss: 0.0068\n",
            "Epoch 45/80\n",
            "38/38 [==============================] - 7s 174ms/step - loss: 0.0062\n",
            "Epoch 46/80\n",
            "38/38 [==============================] - 7s 176ms/step - loss: 0.0054\n",
            "Epoch 47/80\n",
            "38/38 [==============================] - 7s 177ms/step - loss: 0.0049\n",
            "Epoch 48/80\n",
            "38/38 [==============================] - 7s 175ms/step - loss: 0.0057\n",
            "Epoch 49/80\n",
            "38/38 [==============================] - 7s 176ms/step - loss: 0.0052\n",
            "Epoch 50/80\n",
            "38/38 [==============================] - 7s 175ms/step - loss: 0.0051\n",
            "Epoch 51/80\n",
            "38/38 [==============================] - 7s 179ms/step - loss: 0.0050\n",
            "Epoch 52/80\n",
            "38/38 [==============================] - 7s 179ms/step - loss: 0.0048\n",
            "Epoch 53/80\n",
            "38/38 [==============================] - 7s 178ms/step - loss: 0.0047\n",
            "Epoch 54/80\n",
            "38/38 [==============================] - 8s 207ms/step - loss: 0.0047\n",
            "Epoch 55/80\n",
            "38/38 [==============================] - 7s 177ms/step - loss: 0.0044\n",
            "Epoch 56/80\n",
            "38/38 [==============================] - 7s 177ms/step - loss: 0.0054\n",
            "Epoch 57/80\n",
            "38/38 [==============================] - 7s 176ms/step - loss: 0.0046\n",
            "Epoch 58/80\n",
            "38/38 [==============================] - 7s 175ms/step - loss: 0.0043\n",
            "Epoch 59/80\n",
            "38/38 [==============================] - 7s 179ms/step - loss: 0.0039\n",
            "Epoch 60/80\n",
            "38/38 [==============================] - 7s 174ms/step - loss: 0.0040\n",
            "Epoch 61/80\n",
            "38/38 [==============================] - 7s 175ms/step - loss: 0.0041\n",
            "Epoch 62/80\n",
            "38/38 [==============================] - 7s 175ms/step - loss: 0.0037\n",
            "Epoch 63/80\n",
            "38/38 [==============================] - 7s 178ms/step - loss: 0.0035\n",
            "Epoch 64/80\n",
            "38/38 [==============================] - 7s 176ms/step - loss: 0.0037\n",
            "Epoch 65/80\n",
            "38/38 [==============================] - 7s 175ms/step - loss: 0.0036\n",
            "Epoch 66/80\n",
            "38/38 [==============================] - 7s 179ms/step - loss: 0.0038\n",
            "Epoch 67/80\n",
            "38/38 [==============================] - 7s 175ms/step - loss: 0.0039\n",
            "Epoch 68/80\n",
            "38/38 [==============================] - 7s 177ms/step - loss: 0.0034\n",
            "Epoch 69/80\n",
            "38/38 [==============================] - 7s 178ms/step - loss: 0.0035\n",
            "Epoch 70/80\n",
            "38/38 [==============================] - 7s 181ms/step - loss: 0.0034\n",
            "Epoch 71/80\n",
            "38/38 [==============================] - 8s 207ms/step - loss: 0.0032\n",
            "Epoch 72/80\n",
            "38/38 [==============================] - 7s 177ms/step - loss: 0.0033\n",
            "Epoch 73/80\n",
            "38/38 [==============================] - 7s 177ms/step - loss: 0.0032\n",
            "Epoch 74/80\n",
            "38/38 [==============================] - 7s 180ms/step - loss: 0.0030\n",
            "Epoch 75/80\n",
            "38/38 [==============================] - 7s 180ms/step - loss: 0.0031\n",
            "Epoch 76/80\n",
            "38/38 [==============================] - 7s 175ms/step - loss: 0.0032\n",
            "Epoch 77/80\n",
            "38/38 [==============================] - 7s 175ms/step - loss: 0.0028\n",
            "Epoch 78/80\n",
            "38/38 [==============================] - 7s 177ms/step - loss: 0.0031\n",
            "Epoch 79/80\n",
            "38/38 [==============================] - 7s 176ms/step - loss: 0.0031\n",
            "Epoch 80/80\n",
            "38/38 [==============================] - 7s 173ms/step - loss: 0.0031\n"
          ]
        },
        {
          "output_type": "execute_result",
          "data": {
            "text/plain": [
              "<keras.callbacks.History at 0x7f709f19c650>"
            ]
          },
          "metadata": {},
          "execution_count": 35
        }
      ]
    },
    {
      "cell_type": "code",
      "source": [
        "data_test_stoke = data_test.iloc[:,1:2]"
      ],
      "metadata": {
        "id": "ZGlXtQwPLNKl"
      },
      "execution_count": 36,
      "outputs": []
    },
    {
      "cell_type": "code",
      "source": [
        "dataset = pd.concat((data_train['Open'],data_test['Open']),axis =0)\n",
        "inputs = dataset[len(dataset)-len(data_test)-60:].values\n",
        "inputs =inputs.reshape(-1,1)\n",
        "inputs =sc.transform(inputs)\n",
        "\n",
        "x_test =[]\n",
        "for i in range(60,80):\n",
        "    x_test.append(inputs[i-60:i,0])\n",
        "    \n",
        "x_test = np.array(x_test)\n",
        "x_test = np.reshape(x_test,(x_test.shape[0],x_test.shape[1],1))"
      ],
      "metadata": {
        "id": "XdkBUzbILS0b"
      },
      "execution_count": 37,
      "outputs": []
    },
    {
      "cell_type": "code",
      "source": [
        "predict_price = regressor.predict(x_test)                 \n",
        "predict_price = sc.inverse_transform(predict_price)"
      ],
      "metadata": {
        "id": "WVOBx0-yLZiM"
      },
      "execution_count": 38,
      "outputs": []
    },
    {
      "cell_type": "code",
      "source": [
        "plt.plot(data_test_stoke,color='red',label = 'real stoke price ')\n",
        "plt.plot(predict_price,color='blue',label = 'predicted stoke price ')\n",
        "plt.title('stock price prediction')\n",
        "plt.xlabel('time')\n",
        "plt.ylabel('price')\n",
        "plt.legend()\n",
        "plt.show()"
      ],
      "metadata": {
        "colab": {
          "base_uri": "https://localhost:8080/",
          "height": 295
        },
        "id": "gR0AHwQJLaQF",
        "outputId": "9a581bce-2a11-4949-d645-7842887afc4a"
      },
      "execution_count": 39,
      "outputs": [
        {
          "output_type": "display_data",
          "data": {
            "text/plain": [
              "<Figure size 432x288 with 1 Axes>"
            ],
            "image/png": "[encoded data removed]"
          },
          "metadata": {
            "needs_background": "light"
          }
        }
      ]
    },
    {
      "cell_type": "code",
      "source": [
        "regressor.save('stock_price.h5')\n"
      ],
      "metadata": {
        "id": "Sbohq0X8e8RZ"
      },
      "execution_count": 42,
      "outputs": []
    }
  ]
}